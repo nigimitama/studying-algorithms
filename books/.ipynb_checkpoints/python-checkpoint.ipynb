{
 "cells": [
  {
   "cell_type": "markdown",
   "metadata": {},
   "source": [
    "# 『Pythonで体験してわかるアルゴリズムとデータ構造』"
   ]
  },
  {
   "cell_type": "markdown",
   "metadata": {},
   "source": [
    "## 第3章 アルゴリズムを比べる方法\n",
    "\n",
    "### 選択ソート（selection sort）\n",
    "\n",
    "1. ソート対象の列の中から最小値を見つけ，その値と先頭を交換する\n",
    "2. 先頭を除いた残りの列をソート対象とし，1．に戻る\n",
    "3. ソート対象の列の要素が1 個になったら停止する \n"
   ]
  },
  {
   "cell_type": "code",
   "execution_count": 12,
   "metadata": {},
   "outputs": [],
   "source": [
    "def selection_sort(x: list):\n",
    "    new_x = []\n",
    "    while len(x) >= 1:\n",
    "        min_x = min(x)\n",
    "        new_x += [min_x]\n",
    "        min_x_idx = x.index(min_x)\n",
    "        del x[min_x_idx]\n",
    "    return new_x"
   ]
  },
  {
   "cell_type": "code",
   "execution_count": 19,
   "metadata": {},
   "outputs": [
    {
     "name": "stdout",
     "output_type": "stream",
     "text": [
      "1.94 µs ± 410 ns per loop (mean ± std. dev. of 7 runs, 1000000 loops each)\n"
     ]
    }
   ],
   "source": [
    "%%timeit\n",
    "selection_sort([1, 4, 5, 2])"
   ]
  },
  {
   "cell_type": "code",
   "execution_count": 20,
   "metadata": {},
   "outputs": [],
   "source": [
    "def sort(A):\n",
    "    for i in range(0, len(A) - 1):\n",
    "        select_min(A, i)\n",
    "\n",
    "def select_min(A, i):\n",
    "    min = i\n",
    "    for j in range(i + 1, len(A)):\n",
    "        # 大きければ順番を入れ替える\n",
    "        if A[min] > A[j]:\n",
    "            min = j\n",
    "    A[i], A[min] = A[min], A[i]\n"
   ]
  },
  {
   "cell_type": "code",
   "execution_count": 21,
   "metadata": {},
   "outputs": [
    {
     "name": "stdout",
     "output_type": "stream",
     "text": [
      "1.99 µs ± 13.3 ns per loop (mean ± std. dev. of 7 runs, 100000 loops each)\n"
     ]
    }
   ],
   "source": [
    "%%timeit\n",
    "x = [1, 4, 5, 2]\n",
    "sort(x)\n",
    "x"
   ]
  },
  {
   "cell_type": "code",
   "execution_count": 22,
   "metadata": {},
   "outputs": [],
   "source": [
    "# 随時交換版：先頭との交換を、最小値を求めた後ではなく、先頭より小さい数が見つかるたびに行う\n",
    "def sort(A):\n",
    "    for i in range(0, len(A) - 1):\n",
    "        select_min(A, i)\n",
    "\n",
    "def select_min(A, i):\n",
    "    for j in range(i + 1, len(A)):\n",
    "        if A[i] > A[j]:\n",
    "            A[j], A[i] = A[i], A[j]\n"
   ]
  },
  {
   "cell_type": "code",
   "execution_count": 23,
   "metadata": {},
   "outputs": [
    {
     "name": "stdout",
     "output_type": "stream",
     "text": [
      "2.04 µs ± 139 ns per loop (mean ± std. dev. of 7 runs, 1000000 loops each)\n"
     ]
    }
   ],
   "source": [
    "%%timeit\n",
    "x = [1, 4, 5, 2]\n",
    "sort(x)\n",
    "x"
   ]
  },
  {
   "cell_type": "code",
   "execution_count": null,
   "metadata": {},
   "outputs": [],
   "source": []
  }
 ],
 "metadata": {
  "kernelspec": {
   "display_name": "Python 3",
   "language": "python",
   "name": "python3"
  },
  "language_info": {
   "codemirror_mode": {
    "name": "ipython",
    "version": 3
   },
   "file_extension": ".py",
   "mimetype": "text/x-python",
   "name": "python",
   "nbconvert_exporter": "python",
   "pygments_lexer": "ipython3",
   "version": "3.7.3"
  }
 },
 "nbformat": 4,
 "nbformat_minor": 4
}
